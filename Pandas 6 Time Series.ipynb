{
 "cells": [
  {
   "cell_type": "markdown",
   "metadata": {
    "slideshow": {
     "slide_type": "slide"
    }
   },
   "source": [
    "# Pandas 6"
   ]
  },
  {
   "cell_type": "markdown",
   "metadata": {
    "slideshow": {
     "slide_type": "slide"
    }
   },
   "source": [
    "Pandas handles timestamps in a special way that makes it easy to work with time series. As this is particularly important for financial applications, this lecture will concentrate on time series processing.\n",
    "\n",
    "We will look at:\n",
    "\n",
    "* the datetime object,\n",
    "* indexing and slicing by time,\n",
    "* various operations on time series,\n",
    "* and, time permitting, we'll build a trading simulator."
   ]
  },
  {
   "cell_type": "code",
   "execution_count": 1,
   "metadata": {
    "slideshow": {
     "slide_type": "slide"
    }
   },
   "outputs": [
    {
     "name": "stdout",
     "output_type": "stream",
     "text": [
      "Populating the interactive namespace from numpy and matplotlib\n"
     ]
    }
   ],
   "source": [
    "from pandas import Series, DataFrame\n",
    "import pandas as pd\n",
    "%pylab inline"
   ]
  },
  {
   "cell_type": "code",
   "execution_count": 2,
   "metadata": {},
   "outputs": [],
   "source": [
    "# For time series analysis, we also need another module\n",
    "from datetime import datetime"
   ]
  },
  {
   "cell_type": "markdown",
   "metadata": {
    "slideshow": {
     "slide_type": "slide"
    }
   },
   "source": [
    "## Loading financial time series data"
   ]
  },
  {
   "cell_type": "code",
   "execution_count": 3,
   "metadata": {},
   "outputs": [
    {
     "data": {
      "text/html": [
       "<div>\n",
       "<style scoped>\n",
       "    .dataframe tbody tr th:only-of-type {\n",
       "        vertical-align: middle;\n",
       "    }\n",
       "\n",
       "    .dataframe tbody tr th {\n",
       "        vertical-align: top;\n",
       "    }\n",
       "\n",
       "    .dataframe thead th {\n",
       "        text-align: right;\n",
       "    }\n",
       "</style>\n",
       "<table border=\"1\" class=\"dataframe\">\n",
       "  <thead>\n",
       "    <tr style=\"text-align: right;\">\n",
       "      <th></th>\n",
       "      <th>Open</th>\n",
       "      <th>High</th>\n",
       "      <th>Low</th>\n",
       "      <th>Close</th>\n",
       "      <th>Volume</th>\n",
       "      <th>Adj Close</th>\n",
       "    </tr>\n",
       "    <tr>\n",
       "      <th>Date</th>\n",
       "      <th></th>\n",
       "      <th></th>\n",
       "      <th></th>\n",
       "      <th></th>\n",
       "      <th></th>\n",
       "      <th></th>\n",
       "    </tr>\n",
       "  </thead>\n",
       "  <tbody>\n",
       "    <tr>\n",
       "      <th>2011-01-03</th>\n",
       "      <td>325.64</td>\n",
       "      <td>330.26</td>\n",
       "      <td>324.84</td>\n",
       "      <td>329.57</td>\n",
       "      <td>111284600</td>\n",
       "      <td>44.59</td>\n",
       "    </tr>\n",
       "    <tr>\n",
       "      <th>2011-01-04</th>\n",
       "      <td>332.44</td>\n",
       "      <td>332.50</td>\n",
       "      <td>328.15</td>\n",
       "      <td>331.29</td>\n",
       "      <td>77270200</td>\n",
       "      <td>44.82</td>\n",
       "    </tr>\n",
       "    <tr>\n",
       "      <th>2011-01-05</th>\n",
       "      <td>329.55</td>\n",
       "      <td>334.34</td>\n",
       "      <td>329.50</td>\n",
       "      <td>334.00</td>\n",
       "      <td>63879900</td>\n",
       "      <td>45.18</td>\n",
       "    </tr>\n",
       "    <tr>\n",
       "      <th>2011-01-06</th>\n",
       "      <td>334.72</td>\n",
       "      <td>335.25</td>\n",
       "      <td>332.90</td>\n",
       "      <td>333.73</td>\n",
       "      <td>75107200</td>\n",
       "      <td>45.15</td>\n",
       "    </tr>\n",
       "    <tr>\n",
       "      <th>2011-01-07</th>\n",
       "      <td>333.99</td>\n",
       "      <td>336.35</td>\n",
       "      <td>331.90</td>\n",
       "      <td>336.12</td>\n",
       "      <td>77982800</td>\n",
       "      <td>45.47</td>\n",
       "    </tr>\n",
       "  </tbody>\n",
       "</table>\n",
       "</div>"
      ],
      "text/plain": [
       "              Open    High     Low   Close     Volume  Adj Close\n",
       "Date                                                            \n",
       "2011-01-03  325.64  330.26  324.84  329.57  111284600      44.59\n",
       "2011-01-04  332.44  332.50  328.15  331.29   77270200      44.82\n",
       "2011-01-05  329.55  334.34  329.50  334.00   63879900      45.18\n",
       "2011-01-06  334.72  335.25  332.90  333.73   75107200      45.15\n",
       "2011-01-07  333.99  336.35  331.90  336.12   77982800      45.47"
      ]
     },
     "execution_count": 3,
     "metadata": {},
     "output_type": "execute_result"
    }
   ],
   "source": [
    "# Data downloaded from Yahoo! Finance\n",
    "df = pd.read_csv('Pandas_6_data/aapl.csv') \n",
    "\n",
    "# Convert the 'Date' column into a datetime object\n",
    "df['Date'] = pd.to_datetime(df['Date'])\n",
    "\n",
    "# Set 'Date' as the index\n",
    "df.set_index('Date', inplace=True)\n",
    "df[:5]"
   ]
  },
  {
   "cell_type": "markdown",
   "metadata": {
    "slideshow": {
     "slide_type": "fragment"
    }
   },
   "source": [
    "Pandas also provides convenience functions to get data directly from web sources. For this, we need the _pandas-datareader_ module."
   ]
  },
  {
   "cell_type": "markdown",
   "metadata": {
    "slideshow": {
     "slide_type": "skip"
    }
   },
   "source": [
    "We need to install pandas-datareader.\n",
    "\n",
    "* Typically, just installing it from the GUI works, but there's currently a bug whose fix is in the \"dev\" version, but not in the version installed by default.\n",
    "\n",
    "* Install git  (this is a commonly used version control software). Then try\n",
    "> pip install git+https://github.com/pydata/pandas-datareader.git\n",
    "\n",
    "OR, try this:\n",
    "> git clone https://github.com/pydata/pandas-datareader.git\n",
    "\n",
    "> cd pandas-datareader\n",
    "\n",
    "> python setup.py install"
   ]
  },
  {
   "cell_type": "code",
   "execution_count": 4,
   "metadata": {
    "slideshow": {
     "slide_type": "slide"
    }
   },
   "outputs": [
    {
     "data": {
      "text/html": [
       "<div>\n",
       "<style scoped>\n",
       "    .dataframe tbody tr th:only-of-type {\n",
       "        vertical-align: middle;\n",
       "    }\n",
       "\n",
       "    .dataframe tbody tr th {\n",
       "        vertical-align: top;\n",
       "    }\n",
       "\n",
       "    .dataframe thead th {\n",
       "        text-align: right;\n",
       "    }\n",
       "</style>\n",
       "<table border=\"1\" class=\"dataframe\">\n",
       "  <thead>\n",
       "    <tr style=\"text-align: right;\">\n",
       "      <th></th>\n",
       "      <th>Open</th>\n",
       "      <th>High</th>\n",
       "      <th>Low</th>\n",
       "      <th>Close</th>\n",
       "      <th>Volume</th>\n",
       "    </tr>\n",
       "    <tr>\n",
       "      <th>Date</th>\n",
       "      <th></th>\n",
       "      <th></th>\n",
       "      <th></th>\n",
       "      <th></th>\n",
       "      <th></th>\n",
       "    </tr>\n",
       "  </thead>\n",
       "  <tbody>\n",
       "    <tr>\n",
       "      <th>2017-01-03</th>\n",
       "      <td>14.3240</td>\n",
       "      <td>14.6887</td>\n",
       "      <td>14.0640</td>\n",
       "      <td>14.4660</td>\n",
       "      <td>82936545</td>\n",
       "    </tr>\n",
       "    <tr>\n",
       "      <th>2017-01-04</th>\n",
       "      <td>14.3167</td>\n",
       "      <td>15.2000</td>\n",
       "      <td>14.2873</td>\n",
       "      <td>15.1327</td>\n",
       "      <td>166881135</td>\n",
       "    </tr>\n",
       "    <tr>\n",
       "      <th>2017-01-05</th>\n",
       "      <td>15.0947</td>\n",
       "      <td>15.1653</td>\n",
       "      <td>14.7967</td>\n",
       "      <td>15.1167</td>\n",
       "      <td>87832155</td>\n",
       "    </tr>\n",
       "    <tr>\n",
       "      <th>2017-01-06</th>\n",
       "      <td>15.1287</td>\n",
       "      <td>15.3540</td>\n",
       "      <td>15.0300</td>\n",
       "      <td>15.2673</td>\n",
       "      <td>81965850</td>\n",
       "    </tr>\n",
       "    <tr>\n",
       "      <th>2017-01-09</th>\n",
       "      <td>15.2647</td>\n",
       "      <td>15.4613</td>\n",
       "      <td>15.2000</td>\n",
       "      <td>15.4187</td>\n",
       "      <td>58693575</td>\n",
       "    </tr>\n",
       "  </tbody>\n",
       "</table>\n",
       "</div>"
      ],
      "text/plain": [
       "               Open     High      Low    Close     Volume\n",
       "Date                                                     \n",
       "2017-01-03  14.3240  14.6887  14.0640  14.4660   82936545\n",
       "2017-01-04  14.3167  15.2000  14.2873  15.1327  166881135\n",
       "2017-01-05  15.0947  15.1653  14.7967  15.1167   87832155\n",
       "2017-01-06  15.1287  15.3540  15.0300  15.2673   81965850\n",
       "2017-01-09  15.2647  15.4613  15.2000  15.4187   58693575"
      ]
     },
     "execution_count": 4,
     "metadata": {},
     "output_type": "execute_result"
    }
   ],
   "source": [
    "# Import the module for web downloads\n",
    "# (You will need to install the package \"pandas-datareader\")\n",
    "import pandas_datareader.data as web\n",
    "\n",
    "# Specify start and end dates to download\n",
    "start_date = datetime(2017, 1, 1) # January 1, 2017\n",
    "end_date = datetime(2019, 1, 1)   # January 1, 2019\n",
    "\n",
    "# Get Tesla stock for these dates\n",
    "df = web.DataReader('TSLA', 'stooq', start_date, end_date)\n",
    "df.index = pd.to_datetime(df.index)\n",
    "df.sort_index(inplace=True)\n",
    "\n",
    "df[:5]"
   ]
  },
  {
   "cell_type": "markdown",
   "metadata": {
    "slideshow": {
     "slide_type": "slide"
    }
   },
   "source": [
    "Note that this DataFrame has a special kind of index."
   ]
  },
  {
   "cell_type": "code",
   "execution_count": 5,
   "metadata": {
    "slideshow": {
     "slide_type": "-"
    }
   },
   "outputs": [
    {
     "data": {
      "text/plain": [
       "DatetimeIndex(['2017-01-03', '2017-01-04', '2017-01-05', '2017-01-06',\n",
       "               '2017-01-09', '2017-01-10', '2017-01-11', '2017-01-12',\n",
       "               '2017-01-13', '2017-01-17',\n",
       "               ...\n",
       "               '2018-12-17', '2018-12-18', '2018-12-19', '2018-12-20',\n",
       "               '2018-12-21', '2018-12-24', '2018-12-26', '2018-12-27',\n",
       "               '2018-12-28', '2018-12-31'],\n",
       "              dtype='datetime64[ns]', name='Date', length=502, freq=None)"
      ]
     },
     "execution_count": 5,
     "metadata": {},
     "output_type": "execute_result"
    }
   ],
   "source": [
    "df.index"
   ]
  },
  {
   "cell_type": "code",
   "execution_count": 6,
   "metadata": {
    "slideshow": {
     "slide_type": "fragment"
    }
   },
   "outputs": [
    {
     "data": {
      "text/plain": [
       "Timestamp('2017-01-10 00:00:00')"
      ]
     },
     "execution_count": 6,
     "metadata": {},
     "output_type": "execute_result"
    }
   ],
   "source": [
    "sixth_date = df.index[5]\n",
    "sixth_date"
   ]
  },
  {
   "cell_type": "code",
   "execution_count": 7,
   "metadata": {
    "slideshow": {
     "slide_type": "fragment"
    }
   },
   "outputs": [
    {
     "name": "stdout",
     "output_type": "stream",
     "text": [
      "2017-01-10 00:00:00 corresponds to\n",
      "year 2017\n",
      "month 1\n",
      "day 10\n",
      "day of the week 1\n",
      "quarter 1\n"
     ]
    }
   ],
   "source": [
    "# We can extract year, month, etc.\n",
    "print(sixth_date, 'corresponds to')\n",
    "print('year', sixth_date.year)\n",
    "print('month', sixth_date.month)\n",
    "print('day', sixth_date.day)\n",
    "print('day of the week', sixth_date.dayofweek)  # Monday=0, ..., Sunday=6\n",
    "print('quarter', sixth_date.quarter)"
   ]
  },
  {
   "cell_type": "markdown",
   "metadata": {
    "slideshow": {
     "slide_type": "slide"
    }
   },
   "source": [
    "## Indexing in TimeSeries\n",
    "\n",
    "We can index into this DataFrame using such Timestamp objects."
   ]
  },
  {
   "cell_type": "code",
   "execution_count": 8,
   "metadata": {},
   "outputs": [
    {
     "data": {
      "text/plain": [
       "Open      1.546670e+01\n",
       "High      1.546670e+01\n",
       "Low       1.512600e+01\n",
       "Close     1.532470e+01\n",
       "Volume    5.394734e+07\n",
       "Name: 2017-01-10 00:00:00, dtype: float64"
      ]
     },
     "execution_count": 8,
     "metadata": {},
     "output_type": "execute_result"
    }
   ],
   "source": [
    "df.loc[sixth_date]"
   ]
  },
  {
   "cell_type": "code",
   "execution_count": 9,
   "metadata": {
    "slideshow": {
     "slide_type": "fragment"
    }
   },
   "outputs": [
    {
     "data": {
      "text/plain": [
       "Open      1.546670e+01\n",
       "High      1.546670e+01\n",
       "Low       1.512600e+01\n",
       "Close     1.532470e+01\n",
       "Volume    5.394734e+07\n",
       "Name: 2017-01-10 00:00:00, dtype: float64"
      ]
     },
     "execution_count": 9,
     "metadata": {},
     "output_type": "execute_result"
    }
   ],
   "source": [
    "df.loc['1/10/2017']  # month/day/year"
   ]
  },
  {
   "cell_type": "code",
   "execution_count": 10,
   "metadata": {
    "slideshow": {
     "slide_type": "slide"
    }
   },
   "outputs": [
    {
     "data": {
      "text/plain": [
       "Open      1.546670e+01\n",
       "High      1.546670e+01\n",
       "Low       1.512600e+01\n",
       "Close     1.532470e+01\n",
       "Volume    5.394734e+07\n",
       "Name: 2017-01-10 00:00:00, dtype: float64"
      ]
     },
     "execution_count": 10,
     "metadata": {},
     "output_type": "execute_result"
    }
   ],
   "source": [
    "df.loc['2017-01-10'] # year-month-day"
   ]
  },
  {
   "cell_type": "code",
   "execution_count": 11,
   "metadata": {
    "slideshow": {
     "slide_type": "fragment"
    }
   },
   "outputs": [
    {
     "data": {
      "text/plain": [
       "Open      1.546670e+01\n",
       "High      1.546670e+01\n",
       "Low       1.512600e+01\n",
       "Close     1.532470e+01\n",
       "Volume    5.394734e+07\n",
       "Name: 2017-01-10 00:00:00, dtype: float64"
      ]
     },
     "execution_count": 11,
     "metadata": {},
     "output_type": "execute_result"
    }
   ],
   "source": [
    "df.loc[datetime(year=2017, month=1, day=10)]"
   ]
  },
  {
   "cell_type": "markdown",
   "metadata": {
    "slideshow": {
     "slide_type": "slide"
    }
   },
   "source": [
    "## Slicing in Time Series\n",
    "\n",
    "We can also use any of the indexing methods above to select out slices of a time series."
   ]
  },
  {
   "cell_type": "code",
   "execution_count": 12,
   "metadata": {
    "slideshow": {
     "slide_type": "fragment"
    }
   },
   "outputs": [
    {
     "data": {
      "text/html": [
       "<div>\n",
       "<style scoped>\n",
       "    .dataframe tbody tr th:only-of-type {\n",
       "        vertical-align: middle;\n",
       "    }\n",
       "\n",
       "    .dataframe tbody tr th {\n",
       "        vertical-align: top;\n",
       "    }\n",
       "\n",
       "    .dataframe thead th {\n",
       "        text-align: right;\n",
       "    }\n",
       "</style>\n",
       "<table border=\"1\" class=\"dataframe\">\n",
       "  <thead>\n",
       "    <tr style=\"text-align: right;\">\n",
       "      <th></th>\n",
       "      <th>Open</th>\n",
       "      <th>High</th>\n",
       "      <th>Low</th>\n",
       "      <th>Close</th>\n",
       "      <th>Volume</th>\n",
       "    </tr>\n",
       "    <tr>\n",
       "      <th>Date</th>\n",
       "      <th></th>\n",
       "      <th></th>\n",
       "      <th></th>\n",
       "      <th></th>\n",
       "      <th></th>\n",
       "    </tr>\n",
       "  </thead>\n",
       "  <tbody>\n",
       "    <tr>\n",
       "      <th>2017-01-03</th>\n",
       "      <td>14.3240</td>\n",
       "      <td>14.6887</td>\n",
       "      <td>14.0640</td>\n",
       "      <td>14.4660</td>\n",
       "      <td>82936545</td>\n",
       "    </tr>\n",
       "    <tr>\n",
       "      <th>2017-01-04</th>\n",
       "      <td>14.3167</td>\n",
       "      <td>15.2000</td>\n",
       "      <td>14.2873</td>\n",
       "      <td>15.1327</td>\n",
       "      <td>166881135</td>\n",
       "    </tr>\n",
       "    <tr>\n",
       "      <th>2017-01-05</th>\n",
       "      <td>15.0947</td>\n",
       "      <td>15.1653</td>\n",
       "      <td>14.7967</td>\n",
       "      <td>15.1167</td>\n",
       "      <td>87832155</td>\n",
       "    </tr>\n",
       "    <tr>\n",
       "      <th>2017-01-06</th>\n",
       "      <td>15.1287</td>\n",
       "      <td>15.3540</td>\n",
       "      <td>15.0300</td>\n",
       "      <td>15.2673</td>\n",
       "      <td>81965850</td>\n",
       "    </tr>\n",
       "    <tr>\n",
       "      <th>2017-01-09</th>\n",
       "      <td>15.2647</td>\n",
       "      <td>15.4613</td>\n",
       "      <td>15.2000</td>\n",
       "      <td>15.4187</td>\n",
       "      <td>58693575</td>\n",
       "    </tr>\n",
       "    <tr>\n",
       "      <th>2017-01-10</th>\n",
       "      <td>15.4667</td>\n",
       "      <td>15.4667</td>\n",
       "      <td>15.1260</td>\n",
       "      <td>15.3247</td>\n",
       "      <td>53947335</td>\n",
       "    </tr>\n",
       "  </tbody>\n",
       "</table>\n",
       "</div>"
      ],
      "text/plain": [
       "               Open     High      Low    Close     Volume\n",
       "Date                                                     \n",
       "2017-01-03  14.3240  14.6887  14.0640  14.4660   82936545\n",
       "2017-01-04  14.3167  15.2000  14.2873  15.1327  166881135\n",
       "2017-01-05  15.0947  15.1653  14.7967  15.1167   87832155\n",
       "2017-01-06  15.1287  15.3540  15.0300  15.2673   81965850\n",
       "2017-01-09  15.2647  15.4613  15.2000  15.4187   58693575\n",
       "2017-01-10  15.4667  15.4667  15.1260  15.3247   53947335"
      ]
     },
     "execution_count": 12,
     "metadata": {},
     "output_type": "execute_result"
    }
   ],
   "source": [
    "df.loc['1/1/2017':'1/10/2017']"
   ]
  },
  {
   "cell_type": "markdown",
   "metadata": {
    "slideshow": {
     "slide_type": "slide"
    }
   },
   "source": [
    "In addition, Pandas allows us to easily slice by month or year as well."
   ]
  },
  {
   "cell_type": "code",
   "execution_count": 13,
   "metadata": {},
   "outputs": [
    {
     "data": {
      "text/plain": [
       "Date\n",
       "2017-05-01    21.5220\n",
       "2017-05-02    21.2593\n",
       "2017-05-03    20.7347\n",
       "2017-05-04    19.6973\n",
       "2017-05-05    20.5567\n",
       "2017-05-08    20.4793\n",
       "2017-05-09    21.4173\n",
       "2017-05-10    21.6813\n",
       "2017-05-11    21.5400\n",
       "2017-05-12    21.6540\n",
       "2017-05-15    21.0587\n",
       "2017-05-16    21.1340\n",
       "2017-05-17    20.4000\n",
       "2017-05-18    20.8707\n",
       "2017-05-19    20.7220\n",
       "2017-05-22    20.6900\n",
       "2017-05-23    20.2573\n",
       "2017-05-24    20.6813\n",
       "2017-05-25    21.1220\n",
       "2017-05-26    21.6760\n",
       "2017-05-30    22.3400\n",
       "2017-05-31    22.7340\n",
       "Name: Close, dtype: float64"
      ]
     },
     "execution_count": 13,
     "metadata": {},
     "output_type": "execute_result"
    }
   ],
   "source": [
    "closings = df['Close']  # Select one column from our DataFrame; this is a Series\n",
    "closings['2017-05']"
   ]
  },
  {
   "cell_type": "code",
   "execution_count": 14,
   "metadata": {
    "slideshow": {
     "slide_type": "slide"
    }
   },
   "outputs": [
    {
     "data": {
      "text/plain": [
       "Date\n",
       "2017-01-03    14.4660\n",
       "2017-01-04    15.1327\n",
       "2017-01-05    15.1167\n",
       "2017-01-06    15.2673\n",
       "2017-01-09    15.4187\n",
       "               ...   \n",
       "2017-12-22    21.6800\n",
       "2017-12-26    21.1527\n",
       "2017-12-27    20.7760\n",
       "2017-12-28    21.0240\n",
       "2017-12-29    20.7567\n",
       "Name: Close, Length: 251, dtype: float64"
      ]
     },
     "execution_count": 14,
     "metadata": {},
     "output_type": "execute_result"
    }
   ],
   "source": [
    "closings['2017']"
   ]
  },
  {
   "cell_type": "markdown",
   "metadata": {
    "slideshow": {
     "slide_type": "slide"
    }
   },
   "source": [
    "The general solution to slicing is to create a range of dates and select a slice using that range. There are many options:\n",
    "\n",
    "* For calendar dates, use *date_range()*, with a common case being:\n",
    "\n",
    "   > date_range(start_date, end_date, freq)\n",
    "\n",
    "\n",
    "* The \"freq\" can be:\n",
    "    * 'D' for daily\n",
    "    * 'B' for each business day\n",
    "    * 'W-MON', 'W-TUE', ... for once a week on Monday, Tuesday, ...\n",
    "    * 'M' for monthly\n",
    "    * ...\n",
    "    * 'WOM-3FRI' for third Friday of the month (usual for option expiry dates)"
   ]
  },
  {
   "cell_type": "code",
   "execution_count": 15,
   "metadata": {
    "slideshow": {
     "slide_type": "slide"
    }
   },
   "outputs": [
    {
     "data": {
      "text/plain": [
       "[Timestamp('2017-01-03 00:00:00', freq='W-TUE'),\n",
       " Timestamp('2017-01-10 00:00:00', freq='W-TUE'),\n",
       " Timestamp('2017-01-17 00:00:00', freq='W-TUE'),\n",
       " Timestamp('2017-01-24 00:00:00', freq='W-TUE'),\n",
       " Timestamp('2017-01-31 00:00:00', freq='W-TUE')]"
      ]
     },
     "execution_count": 15,
     "metadata": {},
     "output_type": "execute_result"
    }
   ],
   "source": [
    "dates = pd.date_range(start='1/3/2017', end='2/3/2017', freq='W-TUE')\n",
    "list(dates)"
   ]
  },
  {
   "cell_type": "code",
   "execution_count": 16,
   "metadata": {
    "slideshow": {
     "slide_type": "slide"
    }
   },
   "outputs": [
    {
     "data": {
      "text/html": [
       "<div>\n",
       "<style scoped>\n",
       "    .dataframe tbody tr th:only-of-type {\n",
       "        vertical-align: middle;\n",
       "    }\n",
       "\n",
       "    .dataframe tbody tr th {\n",
       "        vertical-align: top;\n",
       "    }\n",
       "\n",
       "    .dataframe thead th {\n",
       "        text-align: right;\n",
       "    }\n",
       "</style>\n",
       "<table border=\"1\" class=\"dataframe\">\n",
       "  <thead>\n",
       "    <tr style=\"text-align: right;\">\n",
       "      <th></th>\n",
       "      <th>Open</th>\n",
       "      <th>High</th>\n",
       "      <th>Low</th>\n",
       "      <th>Close</th>\n",
       "      <th>Volume</th>\n",
       "    </tr>\n",
       "    <tr>\n",
       "      <th>Date</th>\n",
       "      <th></th>\n",
       "      <th></th>\n",
       "      <th></th>\n",
       "      <th></th>\n",
       "      <th></th>\n",
       "    </tr>\n",
       "  </thead>\n",
       "  <tbody>\n",
       "    <tr>\n",
       "      <th>2017-01-03</th>\n",
       "      <td>14.3240</td>\n",
       "      <td>14.6887</td>\n",
       "      <td>14.0640</td>\n",
       "      <td>14.4660</td>\n",
       "      <td>82936545</td>\n",
       "    </tr>\n",
       "    <tr>\n",
       "      <th>2017-01-10</th>\n",
       "      <td>15.4667</td>\n",
       "      <td>15.4667</td>\n",
       "      <td>15.1260</td>\n",
       "      <td>15.3247</td>\n",
       "      <td>53947335</td>\n",
       "    </tr>\n",
       "    <tr>\n",
       "      <th>2017-01-17</th>\n",
       "      <td>15.7800</td>\n",
       "      <td>15.9973</td>\n",
       "      <td>15.6247</td>\n",
       "      <td>15.7053</td>\n",
       "      <td>68991465</td>\n",
       "    </tr>\n",
       "    <tr>\n",
       "      <th>2017-01-24</th>\n",
       "      <td>16.6667</td>\n",
       "      <td>16.9867</td>\n",
       "      <td>16.6433</td>\n",
       "      <td>16.9740</td>\n",
       "      <td>71708985</td>\n",
       "    </tr>\n",
       "    <tr>\n",
       "      <th>2017-01-31</th>\n",
       "      <td>16.6160</td>\n",
       "      <td>17.0593</td>\n",
       "      <td>16.5133</td>\n",
       "      <td>16.7953</td>\n",
       "      <td>60792855</td>\n",
       "    </tr>\n",
       "  </tbody>\n",
       "</table>\n",
       "</div>"
      ],
      "text/plain": [
       "               Open     High      Low    Close    Volume\n",
       "Date                                                    \n",
       "2017-01-03  14.3240  14.6887  14.0640  14.4660  82936545\n",
       "2017-01-10  15.4667  15.4667  15.1260  15.3247  53947335\n",
       "2017-01-17  15.7800  15.9973  15.6247  15.7053  68991465\n",
       "2017-01-24  16.6667  16.9867  16.6433  16.9740  71708985\n",
       "2017-01-31  16.6160  17.0593  16.5133  16.7953  60792855"
      ]
     },
     "execution_count": 16,
     "metadata": {},
     "output_type": "execute_result"
    }
   ],
   "source": [
    "df.loc[dates]"
   ]
  },
  {
   "cell_type": "markdown",
   "metadata": {
    "slideshow": {
     "slide_type": "slide"
    }
   },
   "source": [
    "## Shifting time series\n",
    "\n",
    "One special operation with time series is to move backward or forward in time. For instance:\n",
    "\n",
    "### What is the percentage daily change in closing price?"
   ]
  },
  {
   "cell_type": "code",
   "execution_count": 17,
   "metadata": {
    "slideshow": {
     "slide_type": "fragment"
    }
   },
   "outputs": [
    {
     "data": {
      "text/plain": [
       "Date\n",
       "2017-01-03    14.4660\n",
       "2017-01-04    15.1327\n",
       "2017-01-05    15.1167\n",
       "2017-01-06    15.2673\n",
       "2017-01-09    15.4187\n",
       "2017-01-10    15.3247\n",
       "2017-01-11    15.3153\n",
       "2017-01-12    15.3060\n",
       "2017-01-13    15.8500\n",
       "2017-01-17    15.7053\n",
       "Name: Close, dtype: float64"
      ]
     },
     "execution_count": 17,
     "metadata": {},
     "output_type": "execute_result"
    }
   ],
   "source": [
    "closes = df['Close']\n",
    "closes[:10]"
   ]
  },
  {
   "cell_type": "code",
   "execution_count": 18,
   "metadata": {
    "slideshow": {
     "slide_type": "slide"
    }
   },
   "outputs": [
    {
     "data": {
      "text/plain": [
       "Date\n",
       "2017-01-03        NaN\n",
       "2017-01-04    14.4660\n",
       "2017-01-05    15.1327\n",
       "2017-01-06    15.1167\n",
       "2017-01-09    15.2673\n",
       "Name: Close, dtype: float64"
      ]
     },
     "execution_count": 18,
     "metadata": {},
     "output_type": "execute_result"
    }
   ],
   "source": [
    "yesterdays_closes = closes.shift(1)\n",
    "yesterdays_closes[:5]"
   ]
  },
  {
   "cell_type": "code",
   "execution_count": 19,
   "metadata": {
    "slideshow": {
     "slide_type": "fragment"
    }
   },
   "outputs": [
    {
     "data": {
      "text/plain": [
       "Date\n",
       "2017-01-03         NaN\n",
       "2017-01-04    4.608738\n",
       "2017-01-05   -0.105731\n",
       "2017-01-06    0.996249\n",
       "2017-01-09    0.991662\n",
       "Name: percent change, dtype: float64"
      ]
     },
     "execution_count": 19,
     "metadata": {},
     "output_type": "execute_result"
    }
   ],
   "source": [
    "df['percent change'] = (closes / yesterdays_closes - 1) * 100\n",
    "df['percent change'][:5]"
   ]
  },
  {
   "cell_type": "markdown",
   "metadata": {
    "slideshow": {
     "slide_type": "slide"
    }
   },
   "source": [
    "## Aggregate total trading volume by month\n",
    "\n",
    "This is accomplished using the _resample()_ method. For example:"
   ]
  },
  {
   "cell_type": "code",
   "execution_count": 20,
   "metadata": {
    "slideshow": {
     "slide_type": "fragment"
    }
   },
   "outputs": [
    {
     "data": {
      "text/plain": [
       "Date\n",
       "2017-01    1469389440\n",
       "2017-02    1748335800\n",
       "2017-03    1579495455\n",
       "2017-04    1733047575\n",
       "2017-05    2213483220\n",
       "2017-06    2777207730\n",
       "2017-07    2717757585\n",
       "2017-08    2035295985\n",
       "2017-09    1669630305\n",
       "2017-10    1842250620\n",
       "Freq: M, Name: Volume, dtype: int64"
      ]
     },
     "execution_count": 20,
     "metadata": {},
     "output_type": "execute_result"
    }
   ],
   "source": [
    "df['Volume'].resample('M', kind='period').sum()[:10]"
   ]
  },
  {
   "cell_type": "markdown",
   "metadata": {
    "slideshow": {
     "slide_type": "fragment"
    }
   },
   "source": [
    "Let us understand the details of this function.\n",
    "\n",
    "    df['volume'].resample('M', kind='period').sum()\n",
    "\n",
    "* This takes the Volume series, which is indexed on a daily basis,\n",
    "* _\"resamples\"_ it on a monthly basis (the 'M'),\n",
    "*  using the corresponding period as the index, e.g., the month '2017-01',\n",
    "* and aggregates the volumes on all days in the month using the 'sum' function."
   ]
  },
  {
   "cell_type": "markdown",
   "metadata": {
    "slideshow": {
     "slide_type": "slide"
    }
   },
   "source": [
    "### Find the average closing price every week"
   ]
  },
  {
   "cell_type": "code",
   "execution_count": 21,
   "metadata": {
    "slideshow": {
     "slide_type": "fragment"
    }
   },
   "outputs": [
    {
     "data": {
      "text/plain": [
       "Date\n",
       "2017-01-02/2017-01-08    14.995675\n",
       "2017-01-09/2017-01-15    15.442940\n",
       "2017-01-16/2017-01-22    16.040500\n",
       "2017-01-23/2017-01-29    16.846280\n",
       "2017-01-30/2017-02-05    16.728780\n",
       "2017-02-06/2017-02-12    17.543480\n",
       "2017-02-13/2017-02-19    18.433620\n",
       "2017-02-20/2017-02-26    17.731500\n",
       "2017-02-27/2017-03-05    16.643860\n",
       "2017-03-06/2017-03-12    16.469600\n",
       "Freq: W-SUN, Name: Close, dtype: float64"
      ]
     },
     "execution_count": 21,
     "metadata": {},
     "output_type": "execute_result"
    }
   ],
   "source": [
    "df['Close'].resample('W', kind='period').mean()[:10]"
   ]
  },
  {
   "cell_type": "markdown",
   "metadata": {
    "slideshow": {
     "slide_type": "slide"
    }
   },
   "source": [
    "## Moving averages\n",
    "\n",
    "A common statistical technique is to smooth a time series by averaging over a time window. For example, a weekly moving average of a time series has, for each day, the average value of the time series over the previous week.\n",
    "\n",
    "### Get the 30-day moving average"
   ]
  },
  {
   "cell_type": "code",
   "execution_count": 22,
   "metadata": {
    "slideshow": {
     "slide_type": "fragment"
    }
   },
   "outputs": [
    {
     "data": {
      "text/plain": [
       "Date\n",
       "2017-01-10          NaN\n",
       "2017-01-11          NaN\n",
       "2017-01-12          NaN\n",
       "2017-01-13          NaN\n",
       "2017-01-17    15.290270\n",
       "2017-01-18    15.344855\n",
       "2017-01-19    15.420342\n",
       "Name: Close, dtype: float64"
      ]
     },
     "execution_count": 22,
     "metadata": {},
     "output_type": "execute_result"
    }
   ],
   "source": [
    "moving_avg_30 = df['Close'].rolling(window=30, min_periods=10).mean()\n",
    "moving_avg_30[5:12]"
   ]
  },
  {
   "cell_type": "markdown",
   "metadata": {
    "slideshow": {
     "slide_type": "slide"
    }
   },
   "source": [
    "What does this mean?\n",
    "\n",
    "    df['Close'].rolling(window=30, min_periods=10).mean()\n",
    "\n",
    "* **df['Close']**: use this time series\n",
    "\n",
    "* **window=30**: take a window of closes over the past 30 days\n",
    "\n",
    "* **min_periods=10**: If the past 30 days don't exist (say, today is the 25th day from the start of the time series), what do we do? This option says:\n",
    "    * for the first 10 days of the time series, the moving average doesn't exist (NaN)\n",
    "    * from the 10th to 30th day, take the average of as many days as are available (so for the 25th day, we average the past 25 days)\n",
    "    * from the 30th day onwards, take the average of the past 30 days\n",
    "\n",
    "* **mean()**: Compute the mean for this rolling window"
   ]
  },
  {
   "cell_type": "markdown",
   "metadata": {
    "slideshow": {
     "slide_type": "slide"
    }
   },
   "source": [
    "### Plot the daily closes and the 30-day moving average"
   ]
  },
  {
   "cell_type": "code",
   "execution_count": 23,
   "metadata": {
    "slideshow": {
     "slide_type": "fragment"
    }
   },
   "outputs": [
    {
     "data": {
      "image/png": "[encoded data removed]",
      "text/plain": [
       "<Figure size 640x480 with 1 Axes>"
      ]
     },
     "metadata": {},
     "output_type": "display_data"
    }
   ],
   "source": [
    "df['Close'].plot(label='Daily close')\n",
    "df['Close'].rolling(window=30, min_periods=10).mean().plot(label='30-day average')\n",
    "ylabel('Stock price')\n",
    "legend(loc='best')\n",
    "show()"
   ]
  },
  {
   "cell_type": "markdown",
   "metadata": {
    "slideshow": {
     "slide_type": "slide"
    }
   },
   "source": [
    "## Trading simulator\n",
    "\n",
    "* A common trading rule says: \n",
    "    * Look at the closing prices\n",
    "    * Buy when the 30-day moving average goes above the 180-day moving average (the BUY rule)\n",
    "    * Sell when the opposite happens (the SELL rule)."
   ]
  },
  {
   "cell_type": "markdown",
   "metadata": {
    "slideshow": {
     "slide_type": "slide"
    }
   },
   "source": [
    "### Steps ###\n",
    "\n",
    "* Compute the daily return ratio\n",
    "    * that is, the ratio of today's closing price to yesterday's closing price.\n",
    "* Calculate the 30-day and 180-day moving averages\n",
    "* Create a mask of the days when I hold the share\n",
    "    * that is, the BUY rule has triggered, but the SELL rule has not.\n",
    "* Compute the cumulative return ratio over the days of the mask\n",
    "    * that is, the product of the return ratios on the days I hold the share."
   ]
  },
  {
   "cell_type": "markdown",
   "metadata": {
    "slideshow": {
     "slide_type": "slide"
    }
   },
   "source": [
    "### Step 1: Daily returns\n",
    "\n",
    "We've already seen this."
   ]
  },
  {
   "cell_type": "code",
   "execution_count": 24,
   "metadata": {
    "slideshow": {
     "slide_type": "fragment"
    }
   },
   "outputs": [
    {
     "data": {
      "text/plain": [
       "Date\n",
       "2017-01-03         NaN\n",
       "2017-01-04    1.046087\n",
       "2017-01-05    0.998943\n",
       "2017-01-06    1.009962\n",
       "2017-01-09    1.009917\n",
       "2017-01-10    0.993904\n",
       "2017-01-11    0.999387\n",
       "2017-01-12    0.999393\n",
       "2017-01-13    1.035542\n",
       "2017-01-17    0.990871\n",
       "Name: Close, dtype: float64"
      ]
     },
     "execution_count": 24,
     "metadata": {},
     "output_type": "execute_result"
    }
   ],
   "source": [
    "closes = df['Close']\n",
    "daily_return_ratio = closes / closes.shift(1)\n",
    "daily_return_ratio[:10]"
   ]
  },
  {
   "cell_type": "markdown",
   "metadata": {
    "slideshow": {
     "slide_type": "slide"
    }
   },
   "source": [
    "### Step 2: Get the 30-day and 180-day moving averages"
   ]
  },
  {
   "cell_type": "code",
   "execution_count": 25,
   "metadata": {
    "slideshow": {
     "slide_type": "fragment"
    }
   },
   "outputs": [
    {
     "data": {
      "image/png": "[encoded data removed]",
      "text/plain": [
       "<Figure size 640x480 with 1 Axes>"
      ]
     },
     "metadata": {},
     "output_type": "display_data"
    }
   ],
   "source": [
    "mavg_30 = closes.rolling(window=30, min_periods=10).mean()\n",
    "mavg_180 = closes.rolling(window=180, min_periods=10).mean()\n",
    "\n",
    "closes.plot(label='Daily close')\n",
    "mavg_30.plot(label='30-day average')\n",
    "mavg_180.plot(label='180-day average')\n",
    "ylabel('Stock price')\n",
    "legend(loc='best')\n",
    "figsize(8,6)"
   ]
  },
  {
   "cell_type": "markdown",
   "metadata": {
    "slideshow": {
     "slide_type": "slide"
    }
   },
   "source": [
    "### Step 3: Find the days the 30-day average is greater."
   ]
  },
  {
   "cell_type": "code",
   "execution_count": 26,
   "metadata": {
    "slideshow": {
     "slide_type": "fragment"
    }
   },
   "outputs": [
    {
     "data": {
      "text/plain": [
       "Date\n",
       "2017-02-10    False\n",
       "2017-02-13    False\n",
       "2017-02-14    False\n",
       "2017-02-15     True\n",
       "2017-02-16     True\n",
       "2017-02-17     True\n",
       "2017-02-21     True\n",
       "Name: Close, dtype: bool"
      ]
     },
     "execution_count": 26,
     "metadata": {},
     "output_type": "execute_result"
    }
   ],
   "source": [
    "mavg_30_is_greater = (mavg_30 > mavg_180)\n",
    "mavg_30_is_greater['2017-02-10':'2017-02-21'] "
   ]
  },
  {
   "cell_type": "markdown",
   "metadata": {
    "slideshow": {
     "slide_type": "fragment"
    }
   },
   "source": [
    "* So the BUY rule triggers on `2017-02-15`\n",
    "* But do I get to hold the stock on all the days where `mavg_30_is_greater` is `True`?"
   ]
  },
  {
   "cell_type": "markdown",
   "metadata": {
    "slideshow": {
     "slide_type": "slide"
    }
   },
   "source": [
    "* Let's consider a pair of days where the moving-averages flipped."
   ]
  },
  {
   "cell_type": "code",
   "execution_count": 27,
   "metadata": {
    "slideshow": {
     "slide_type": "-"
    }
   },
   "outputs": [
    {
     "data": {
      "text/plain": [
       "Date\n",
       "2017-02-14    False\n",
       "2017-02-15     True\n",
       "Name: Close, dtype: bool"
      ]
     },
     "execution_count": 27,
     "metadata": {},
     "output_type": "execute_result"
    }
   ],
   "source": [
    "mavg_30_is_greater['2017-02-14':'2017-02-15']"
   ]
  },
  {
   "cell_type": "markdown",
   "metadata": {
    "slideshow": {
     "slide_type": "fragment"
    }
   },
   "source": [
    "* I didn't hold the stock on `02/14`"
   ]
  },
  {
   "cell_type": "markdown",
   "metadata": {
    "slideshow": {
     "slide_type": "fragment"
    }
   },
   "source": [
    "* How did I calculate the moving average on `02/15`?\n",
    "    * This needs the **closing** price on `02/15`, and many previous days\n",
    "    * So I couldn't have bought the stock until the next day (`02/16`)"
   ]
  },
  {
   "cell_type": "markdown",
   "metadata": {
    "slideshow": {
     "slide_type": "slide"
    }
   },
   "source": [
    "#### The same happens when the SELL rule triggers"
   ]
  },
  {
   "cell_type": "code",
   "execution_count": 28,
   "metadata": {
    "slideshow": {
     "slide_type": "fragment"
    }
   },
   "outputs": [
    {
     "data": {
      "text/plain": [
       "Date\n",
       "2017-11-16     True\n",
       "2017-11-17    False\n",
       "Name: Close, dtype: bool"
      ]
     },
     "execution_count": 28,
     "metadata": {},
     "output_type": "execute_result"
    }
   ],
   "source": [
    "mavg_30_is_greater['2017-11-16':'2017-11-17']"
   ]
  },
  {
   "cell_type": "markdown",
   "metadata": {
    "slideshow": {
     "slide_type": "fragment"
    }
   },
   "source": [
    "* I held the stock on `11/16`\n",
    "* I waited until the close of `11/17` to calculate moving averages\n",
    "    * So I held the stock on `11/17` as well."
   ]
  },
  {
   "cell_type": "markdown",
   "metadata": {
    "slideshow": {
     "slide_type": "slide"
    }
   },
   "source": [
    "### Upshot\n",
    "\n",
    "* We buy the stock the day AFTER the BUY rule triggers\n",
    "* We sell the stock the day AFTER the SELL rule triggers"
   ]
  },
  {
   "cell_type": "markdown",
   "metadata": {
    "slideshow": {
     "slide_type": "fragment"
    }
   },
   "source": [
    "So on which days do we hold the stock?\n",
    "\n",
    "`hold_days = ??`"
   ]
  },
  {
   "cell_type": "code",
   "execution_count": 29,
   "metadata": {
    "slideshow": {
     "slide_type": "fragment"
    }
   },
   "outputs": [],
   "source": [
    "hold_days = mavg_30_is_greater.shift(1)"
   ]
  },
  {
   "cell_type": "markdown",
   "metadata": {
    "slideshow": {
     "slide_type": "slide"
    }
   },
   "source": [
    "The story so far:\n",
    "\n",
    "* We computed daily returns\n",
    "* We computed the days on which we hold the share\n",
    "\n",
    "What's left?"
   ]
  },
  {
   "cell_type": "markdown",
   "metadata": {
    "slideshow": {
     "slide_type": "fragment"
    }
   },
   "source": [
    "* Compute daily returns just on the days we hold the share\n",
    "    * and take the product of these daily returns"
   ]
  },
  {
   "cell_type": "code",
   "execution_count": 30,
   "metadata": {
    "slideshow": {
     "slide_type": "slide"
    }
   },
   "outputs": [
    {
     "data": {
      "text/plain": [
       "Date\n",
       "2017-01-03      NaN\n",
       "2017-01-04    False\n",
       "2017-01-05    False\n",
       "Name: Close, dtype: object"
      ]
     },
     "execution_count": 30,
     "metadata": {},
     "output_type": "execute_result"
    }
   ],
   "source": [
    "# One little problem\n",
    "hold_days[:3]"
   ]
  },
  {
   "cell_type": "markdown",
   "metadata": {},
   "source": [
    "The first date is NaN, because of the shift(). We cannot use hold_days as a mask for daily_return_ratio because the mask must contain only False or True. So let's fix it."
   ]
  },
  {
   "cell_type": "code",
   "execution_count": 31,
   "metadata": {
    "slideshow": {
     "slide_type": "fragment"
    }
   },
   "outputs": [
    {
     "data": {
      "text/plain": [
       "Date\n",
       "2017-01-03    False\n",
       "2017-01-04    False\n",
       "2017-01-05    False\n",
       "Name: Close, dtype: bool"
      ]
     },
     "execution_count": 31,
     "metadata": {},
     "output_type": "execute_result"
    }
   ],
   "source": [
    "hold_days = hold_days.fillna(False)  # we don't hold shares on the first day\n",
    "hold_days[:3]"
   ]
  },
  {
   "cell_type": "markdown",
   "metadata": {
    "slideshow": {
     "slide_type": "fragment"
    }
   },
   "source": [
    "Let's see the period when we hold the share"
   ]
  },
  {
   "cell_type": "code",
   "execution_count": 32,
   "metadata": {
    "slideshow": {
     "slide_type": "slide"
    }
   },
   "outputs": [
    {
     "data": {
      "text/plain": [
       "[Text(0, 0.0, ''),\n",
       " Text(0, 0.5, ''),\n",
       " Text(0, 1.0, ''),\n",
       " Text(0, 1.5, ''),\n",
       " Text(0, 2.0, '')]"
      ]
     },
     "execution_count": 32,
     "metadata": {},
     "output_type": "execute_result"
    },
    {
     "data": {
      "image/png": "[encoded data removed]",
      "text/plain": [
       "<Figure size 800x600 with 2 Axes>"
      ]
     },
     "metadata": {},
     "output_type": "display_data"
    }
   ],
   "source": [
    "fig, (ax1, ax2) = subplots(nrows=2,\n",
    "                           ncols=1,\n",
    "                           sharex=True,\n",
    "                           figsize=(8, 6))\n",
    "\n",
    "closes.plot(ax=ax1, label='Daily close')\n",
    "mavg_30.plot(ax=ax1, label='30-day average')\n",
    "mavg_180.plot(ax=ax1, label='180-day average')\n",
    "ax1.legend(loc='best')\n",
    "ax1.set_ylabel('Stock price')\n",
    "\n",
    "hold_days.astype(int).plot(ax=ax2, ylim=[0,2], label='Moving average signal')\n",
    "ax2.legend(loc='best')\n",
    "ax2.yaxis.set_ticklabels([])"
   ]
  },
  {
   "cell_type": "markdown",
   "metadata": {
    "slideshow": {
     "slide_type": "slide"
    }
   },
   "source": [
    "**Finally: Compute cumulative return**"
   ]
  },
  {
   "cell_type": "code",
   "execution_count": 33,
   "metadata": {},
   "outputs": [
    {
     "data": {
      "text/plain": [
       "Date\n",
       "2017-02-16    0.961358\n",
       "2017-02-17    1.012197\n",
       "2017-02-21    1.018955\n",
       "2017-02-22    0.986011\n",
       "2017-02-23    0.935944\n",
       "Name: Close, dtype: float64"
      ]
     },
     "execution_count": 33,
     "metadata": {},
     "output_type": "execute_result"
    }
   ],
   "source": [
    "# What are the returns on the days we hold the share?\n",
    "s = daily_return_ratio[hold_days]\n",
    "s[:5]"
   ]
  },
  {
   "cell_type": "code",
   "execution_count": 34,
   "metadata": {},
   "outputs": [
    {
     "name": "stdout",
     "output_type": "stream",
     "text": [
      "Overall return ratio = 0.8371915216683729\n"
     ]
    }
   ],
   "source": [
    "# Overall return is the product of the returns on each day we held a share.\n",
    "print('Overall return ratio =', s.prod())"
   ]
  },
  {
   "cell_type": "markdown",
   "metadata": {
    "slideshow": {
     "slide_type": "fragment"
    }
   },
   "source": [
    "Is this good? Let's compare to a buy-and-hold strategy, where we buy on the first day and sell on the last."
   ]
  },
  {
   "cell_type": "code",
   "execution_count": 35,
   "metadata": {
    "slideshow": {
     "slide_type": "fragment"
    }
   },
   "outputs": [
    {
     "name": "stdout",
     "output_type": "stream",
     "text": [
      "Return of buy-and-hold = 1.5337135351859534\n"
     ]
    }
   ],
   "source": [
    "print('Return of buy-and-hold =', daily_return_ratio.prod())"
   ]
  },
  {
   "cell_type": "markdown",
   "metadata": {
    "slideshow": {
     "slide_type": "slide"
    }
   },
   "source": [
    "Let's see how the cumulative return of the moving average strategy compares to buy-and-hold."
   ]
  },
  {
   "cell_type": "code",
   "execution_count": 36,
   "metadata": {
    "slideshow": {
     "slide_type": "fragment"
    }
   },
   "outputs": [
    {
     "data": {
      "image/png": "[encoded data removed]",
      "text/plain": [
       "<Figure size 800x600 with 1 Axes>"
      ]
     },
     "metadata": {},
     "output_type": "display_data"
    }
   ],
   "source": [
    "s.cumprod().plot(label='Moving average strategy')\n",
    "daily_return_ratio.cumprod().plot(label='Buy and hold strategy')\n",
    "ylabel('Return ratio')\n",
    "legend(loc='best')\n",
    "figsize(12,8)"
   ]
  },
  {
   "cell_type": "markdown",
   "metadata": {
    "slideshow": {
     "slide_type": "skip"
    }
   },
   "source": [
    "* By the time the moving average strategy sells, the downturn has already hit hard.\n",
    "* By the time it buys, prices have already gone up quite a bit."
   ]
  }
 ],
 "metadata": {
  "celltoolbar": "Slideshow",
  "kernelspec": {
   "display_name": "Python 3 (ipykernel)",
   "language": "python",
   "name": "python3"
  },
  "language_info": {
   "codemirror_mode": {
    "name": "ipython",
    "version": 3
   },
   "file_extension": ".py",
   "mimetype": "text/x-python",
   "name": "python",
   "nbconvert_exporter": "python",
   "pygments_lexer": "ipython3",
   "version": "3.9.13"
  }
 },
 "nbformat": 4,
 "nbformat_minor": 1
}
